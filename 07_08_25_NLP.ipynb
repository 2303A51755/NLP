{
  "nbformat": 4,
  "nbformat_minor": 0,
  "metadata": {
    "colab": {
      "provenance": [],
      "authorship_tag": "ABX9TyOHw8iQ2SI9K+qGUMkLEMgH",
      "include_colab_link": true
    },
    "kernelspec": {
      "name": "python3",
      "display_name": "Python 3"
    },
    "language_info": {
      "name": "python"
    }
  },
  "cells": [
    {
      "cell_type": "markdown",
      "metadata": {
        "id": "view-in-github",
        "colab_type": "text"
      },
      "source": [
        "<a href=\"https://colab.research.google.com/github/2303A51755/NLP/blob/main/07_08_25_NLP.ipynb\" target=\"_parent\"><img src=\"https://colab.research.google.com/assets/colab-badge.svg\" alt=\"Open In Colab\"/></a>"
      ]
    },
    {
      "cell_type": "code",
      "execution_count": null,
      "metadata": {
        "id": "_C7Oi1mMawjB",
        "colab": {
          "base_uri": "https://localhost:8080/"
        },
        "outputId": "c89abe89-e575-46a9-aa20-82dd224616f7"
      },
      "outputs": [
        {
          "output_type": "stream",
          "name": "stdout",
          "text": [
            "                                                   title  \\\n",
            "0      Ukraine: Angry Zelensky vows to punish Russian...   \n",
            "1      War in Ukraine: Taking cover in a town under a...   \n",
            "2             Ukraine war 'catastrophic for global food'   \n",
            "3      Manchester Arena bombing: Saffie Roussos's par...   \n",
            "4      Ukraine conflict: Oil price soars to highest l...   \n",
            "...                                                  ...   \n",
            "42110           Highlights: Wales make history in Dublin   \n",
            "42111  Gang jailed over £200m of cocaine in banana boxes   \n",
            "42112   Scottish Budget presents huge challenges for SNP   \n",
            "42113  Celebrations as Wales make history qualifying ...   \n",
            "42114  School tells Muslim girls it’s ‘not safe’ for ...   \n",
            "\n",
            "                             pubDate  \\\n",
            "0      Mon, 07 Mar 2022 08:01:56 GMT   \n",
            "1      Sun, 06 Mar 2022 22:49:58 GMT   \n",
            "2      Mon, 07 Mar 2022 00:14:42 GMT   \n",
            "3      Mon, 07 Mar 2022 00:05:40 GMT   \n",
            "4      Mon, 07 Mar 2022 08:15:53 GMT   \n",
            "...                              ...   \n",
            "42110  Tue, 03 Dec 2024 23:07:27 GMT   \n",
            "42111  Tue, 03 Dec 2024 17:48:54 GMT   \n",
            "42112  Tue, 03 Dec 2024 23:00:17 GMT   \n",
            "42113  Wed, 04 Dec 2024 00:05:52 GMT   \n",
            "42114  Wed, 04 Dec 2024 00:03:58 GMT   \n",
            "\n",
            "                                                    guid  \\\n",
            "0       https://www.bbc.co.uk/news/world-europe-60638042   \n",
            "1       https://www.bbc.co.uk/news/world-europe-60641873   \n",
            "2           https://www.bbc.co.uk/news/business-60623941   \n",
            "3                 https://www.bbc.co.uk/news/uk-60579079   \n",
            "4           https://www.bbc.co.uk/news/business-60642786   \n",
            "...                                                  ...   \n",
            "42110  https://www.bbc.com/sport/football/videos/ckg1...   \n",
            "42111   https://www.bbc.com/news/articles/c3e8pvg284no#9   \n",
            "42112   https://www.bbc.com/news/articles/ckg1m1j2grpo#9   \n",
            "42113   https://www.bbc.com/news/articles/c791nq8nl73o#9   \n",
            "42114   https://www.bbc.com/news/articles/cx2wk0k4597o#9   \n",
            "\n",
            "                                                    link  \\\n",
            "0      https://www.bbc.co.uk/news/world-europe-606380...   \n",
            "1      https://www.bbc.co.uk/news/world-europe-606418...   \n",
            "2      https://www.bbc.co.uk/news/business-60623941?a...   \n",
            "3      https://www.bbc.co.uk/news/uk-60579079?at_medi...   \n",
            "4      https://www.bbc.co.uk/news/business-60642786?a...   \n",
            "...                                                  ...   \n",
            "42110  https://www.bbc.com/sport/football/videos/ckg1...   \n",
            "42111     https://www.bbc.com/news/articles/c3e8pvg284no   \n",
            "42112     https://www.bbc.com/news/articles/ckg1m1j2grpo   \n",
            "42113     https://www.bbc.com/news/articles/c791nq8nl73o   \n",
            "42114     https://www.bbc.com/news/articles/cx2wk0k4597o   \n",
            "\n",
            "                                             description  \n",
            "0      The Ukrainian president says the country will ...  \n",
            "1      Jeremy Bowen was on the frontline in Irpin, as...  \n",
            "2      One of the world's biggest fertiliser firms sa...  \n",
            "3      The parents of the Manchester Arena bombing's ...  \n",
            "4      Consumers are feeling the impact of higher ene...  \n",
            "...                                                  ...  \n",
            "42110  Watch highlights as Wales win 2-1 in Dublin fo...  \n",
            "42111  More than two tonnes of the Class A drug was s...  \n",
            "42112  Finance Secretary Shona Robison is preparing t...  \n",
            "42113  Wales defeated the Republic of Ireland 2-1 mak...  \n",
            "42114  Three children have not been back to the Belfa...  \n",
            "\n",
            "[42115 rows x 5 columns]\n"
          ]
        }
      ],
      "source": [
        "import pandas as pd\n",
        "df=pd.read_csv('/content/bbc_news.csv')\n",
        "print(df)"
      ]
    },
    {
      "cell_type": "code",
      "source": [
        "print(df['title'])"
      ],
      "metadata": {
        "colab": {
          "base_uri": "https://localhost:8080/"
        },
        "id": "K0RtFxt6bcKZ",
        "outputId": "d9e2fba3-a274-4aef-9ddf-7e5b35b661b5"
      },
      "execution_count": null,
      "outputs": [
        {
          "output_type": "stream",
          "name": "stdout",
          "text": [
            "0        Ukraine: Angry Zelensky vows to punish Russian...\n",
            "1        War in Ukraine: Taking cover in a town under a...\n",
            "2               Ukraine war 'catastrophic for global food'\n",
            "3        Manchester Arena bombing: Saffie Roussos's par...\n",
            "4        Ukraine conflict: Oil price soars to highest l...\n",
            "                               ...                        \n",
            "42110             Highlights: Wales make history in Dublin\n",
            "42111    Gang jailed over £200m of cocaine in banana boxes\n",
            "42112     Scottish Budget presents huge challenges for SNP\n",
            "42113    Celebrations as Wales make history qualifying ...\n",
            "42114    School tells Muslim girls it’s ‘not safe’ for ...\n",
            "Name: title, Length: 42115, dtype: object\n"
          ]
        }
      ]
    },
    {
      "cell_type": "code",
      "source": [
        "import spacy\n",
        "nlp=spacy.load('en_core_web_sm')\n",
        "doc=nlp(df['title'][0])\n",
        "print(doc)\n"
      ],
      "metadata": {
        "colab": {
          "base_uri": "https://localhost:8080/"
        },
        "id": "l2Crrp9DbcH7",
        "outputId": "99ae1213-08cc-4c06-a874-ef1541df8a0f"
      },
      "execution_count": null,
      "outputs": [
        {
          "output_type": "stream",
          "name": "stdout",
          "text": [
            "Ukraine: Angry Zelensky vows to punish Russian atrocities\n"
          ]
        }
      ]
    },
    {
      "cell_type": "code",
      "source": [
        "print(\"\\n o Sentence Tokenization:\")\n",
        "for sent in doc.sents:\n",
        "    print(sent.text)"
      ],
      "metadata": {
        "colab": {
          "base_uri": "https://localhost:8080/"
        },
        "id": "uosDMqvybcEV",
        "outputId": "6c0196ad-ff79-4f9a-8e7b-2c65d7c297df"
      },
      "execution_count": null,
      "outputs": [
        {
          "output_type": "stream",
          "name": "stdout",
          "text": [
            "\n",
            " o Sentence Tokenization:\n",
            "Ukraine: Angry Zelensky vows to punish Russian atrocities\n"
          ]
        }
      ]
    },
    {
      "cell_type": "code",
      "source": [
        "print(\"\\n o Word Tokenization:\")\n",
        "for token in doc:\n",
        "    print(token.text)"
      ],
      "metadata": {
        "colab": {
          "base_uri": "https://localhost:8080/"
        },
        "id": "YXzlkyLAbcCT",
        "outputId": "fc7011ea-94c4-4145-933f-3a770a88cd26"
      },
      "execution_count": null,
      "outputs": [
        {
          "output_type": "stream",
          "name": "stdout",
          "text": [
            "\n",
            " o Word Tokenization:\n",
            "Ukraine\n",
            ":\n",
            "Angry\n",
            "Zelensky\n",
            "vows\n",
            "to\n",
            "punish\n",
            "Russian\n",
            "atrocities\n"
          ]
        }
      ]
    },
    {
      "cell_type": "code",
      "source": [
        "print(\"\\n o Word Tokenization:\")\n",
        "for i, token in enumerate(doc):\n",
        "    if i < 10:\n",
        "        print(token.text)\n",
        "    else:\n",
        "        break"
      ],
      "metadata": {
        "colab": {
          "base_uri": "https://localhost:8080/"
        },
        "id": "le0Vl9mRbcAT",
        "outputId": "8432670e-077d-4077-b43c-1c35dc9c3c19"
      },
      "execution_count": null,
      "outputs": [
        {
          "output_type": "stream",
          "name": "stdout",
          "text": [
            "\n",
            " o Word Tokenization:\n",
            "Ukraine\n",
            ":\n",
            "Angry\n",
            "Zelensky\n",
            "vows\n",
            "to\n",
            "punish\n",
            "Russian\n",
            "atrocities\n"
          ]
        }
      ]
    },
    {
      "cell_type": "code",
      "source": [
        "import spacy\n",
        "nlp=spacy.load('en_core_web_sm')\n",
        "titles_text = ' '.join(df['title'][0:10])\n",
        "doc=nlp(titles_text)\n",
        "print(doc)"
      ],
      "metadata": {
        "colab": {
          "base_uri": "https://localhost:8080/"
        },
        "id": "BrGnGJNsbb93",
        "outputId": "5c55a9cb-3ec6-4a8d-ab44-a75e88dfb94a"
      },
      "execution_count": null,
      "outputs": [
        {
          "output_type": "stream",
          "name": "stdout",
          "text": [
            "Ukraine: Angry Zelensky vows to punish Russian atrocities War in Ukraine: Taking cover in a town under attack Ukraine war 'catastrophic for global food' Manchester Arena bombing: Saffie Roussos's parents on hearing the truth Ukraine conflict: Oil price soars to highest level since 2008 Ukraine war: PM to hold talks with world leaders on further sanctions Ukraine war: UK grants 50 Ukrainian refugee visas so far TikTok limits services as Netflix pulls out of Russia Covid: Fourth jab for Scotland's vulnerable, and testing wind down fears in Wales Protests across Russia see thousands detained\n"
          ]
        }
      ]
    },
    {
      "cell_type": "code",
      "source": [
        "import spacy\n",
        "nlp=spacy.load('en_core_web_sm')\n",
        "doc=nlp(df['description'][0])\n",
        "print(doc)\n"
      ],
      "metadata": {
        "colab": {
          "base_uri": "https://localhost:8080/"
        },
        "id": "xSAogw3Rbb7u",
        "outputId": "e5700bee-ab0b-401d-976f-03a812d98bdc"
      },
      "execution_count": null,
      "outputs": [
        {
          "output_type": "stream",
          "name": "stdout",
          "text": [
            "The Ukrainian president says the country will not forgive or forget those who murder its civilians.\n"
          ]
        }
      ]
    },
    {
      "cell_type": "code",
      "source": [
        "text=\"Wikipedia, free Internet-based encyclopedia, started in 2001, that operates under an open-source management style. It is overseen by the nonprofit Wikimedia Foundation. Wikipedia uses collaborative software known as a wiki that facilitates the creation and development of articles. Although some highly publicized problems have called attention to Wikipedia’s editorial process, they have done little to dampen public use of the resource, which is one of the most visited sites on the Internet.\"\n"
      ],
      "metadata": {
        "id": "JMKISw6Gbb5R"
      },
      "execution_count": null,
      "outputs": []
    },
    {
      "cell_type": "code",
      "source": [
        "print(text)"
      ],
      "metadata": {
        "colab": {
          "base_uri": "https://localhost:8080/"
        },
        "id": "xYZwLieAbb28",
        "outputId": "7bf8bb17-c066-422a-a6cb-0467658a49e3"
      },
      "execution_count": null,
      "outputs": [
        {
          "output_type": "stream",
          "name": "stdout",
          "text": [
            "Wikipedia, free Internet-based encyclopedia, started in 2001, that operates under an open-source management style. It is overseen by the nonprofit Wikimedia Foundation. Wikipedia uses collaborative software known as a wiki that facilitates the creation and development of articles. Although some highly publicized problems have called attention to Wikipedia’s editorial process, they have done little to dampen public use of the resource, which is one of the most visited sites on the Internet.\n"
          ]
        }
      ]
    },
    {
      "cell_type": "code",
      "source": [
        "doc=nlp(text)\n",
        "print(doc)"
      ],
      "metadata": {
        "colab": {
          "base_uri": "https://localhost:8080/"
        },
        "id": "_t2jVE7jbb0p",
        "outputId": "74e780e9-9cab-4fc4-cba5-2cfa19bd488b"
      },
      "execution_count": null,
      "outputs": [
        {
          "output_type": "stream",
          "name": "stdout",
          "text": [
            "Wikipedia, free Internet-based encyclopedia, started in 2001, that operates under an open-source management style. It is overseen by the nonprofit Wikimedia Foundation. Wikipedia uses collaborative software known as a wiki that facilitates the creation and development of articles. Although some highly publicized problems have called attention to Wikipedia’s editorial process, they have done little to dampen public use of the resource, which is one of the most visited sites on the Internet.\n"
          ]
        }
      ]
    },
    {
      "cell_type": "code",
      "source": [
        "for t in doc:\n",
        "    if t.is_alpha:\n",
        "       print(t)"
      ],
      "metadata": {
        "colab": {
          "base_uri": "https://localhost:8080/"
        },
        "id": "RTnkQYYMbbyQ",
        "outputId": "e70a4a66-2795-4c85-931a-dc86a4225d94"
      },
      "execution_count": null,
      "outputs": [
        {
          "output_type": "stream",
          "name": "stdout",
          "text": [
            "Wikipedia\n",
            "free\n",
            "Internet\n",
            "based\n",
            "encyclopedia\n",
            "started\n",
            "in\n",
            "that\n",
            "operates\n",
            "under\n",
            "an\n",
            "open\n",
            "source\n",
            "management\n",
            "style\n",
            "It\n",
            "is\n",
            "overseen\n",
            "by\n",
            "the\n",
            "nonprofit\n",
            "Wikimedia\n",
            "Foundation\n",
            "Wikipedia\n",
            "uses\n",
            "collaborative\n",
            "software\n",
            "known\n",
            "as\n",
            "a\n",
            "wiki\n",
            "that\n",
            "facilitates\n",
            "the\n",
            "creation\n",
            "and\n",
            "development\n",
            "of\n",
            "articles\n",
            "Although\n",
            "some\n",
            "highly\n",
            "publicized\n",
            "problems\n",
            "have\n",
            "called\n",
            "attention\n",
            "to\n",
            "Wikipedia\n",
            "editorial\n",
            "process\n",
            "they\n",
            "have\n",
            "done\n",
            "little\n",
            "to\n",
            "dampen\n",
            "public\n",
            "use\n",
            "of\n",
            "the\n",
            "resource\n",
            "which\n",
            "is\n",
            "one\n",
            "of\n",
            "the\n",
            "most\n",
            "visited\n",
            "sites\n",
            "on\n",
            "the\n",
            "Internet\n"
          ]
        }
      ]
    },
    {
      "cell_type": "code",
      "source": [
        "from nltk.stem import PorterStemmer\n",
        "st=PorterStemmer()\n",
        "for t in doc:\n",
        "    if t.is_alpha:\n",
        "        print(t)\n",
        "        print(t,\"===\",t.lemma_,\"===\",st.stem(t.text))"
      ],
      "metadata": {
        "colab": {
          "base_uri": "https://localhost:8080/"
        },
        "id": "GwsXR7VQbbv7",
        "outputId": "3197f15d-3c83-44f5-fb11-a13d9590f52d"
      },
      "execution_count": null,
      "outputs": [
        {
          "output_type": "stream",
          "name": "stdout",
          "text": [
            "Wikipedia\n",
            "Wikipedia === Wikipedia === wikipedia\n",
            "free\n",
            "free === free === free\n",
            "Internet\n",
            "Internet === internet === internet\n",
            "based\n",
            "based === base === base\n",
            "encyclopedia\n",
            "encyclopedia === encyclopedia === encyclopedia\n",
            "started\n",
            "started === start === start\n",
            "in\n",
            "in === in === in\n",
            "that\n",
            "that === that === that\n",
            "operates\n",
            "operates === operate === oper\n",
            "under\n",
            "under === under === under\n",
            "an\n",
            "an === an === an\n",
            "open\n",
            "open === open === open\n",
            "source\n",
            "source === source === sourc\n",
            "management\n",
            "management === management === manag\n",
            "style\n",
            "style === style === style\n",
            "It\n",
            "It === it === it\n",
            "is\n",
            "is === be === is\n",
            "overseen\n",
            "overseen === oversee === overseen\n",
            "by\n",
            "by === by === by\n",
            "the\n",
            "the === the === the\n",
            "nonprofit\n",
            "nonprofit === nonprofit === nonprofit\n",
            "Wikimedia\n",
            "Wikimedia === Wikimedia === wikimedia\n",
            "Foundation\n",
            "Foundation === Foundation === foundat\n",
            "Wikipedia\n",
            "Wikipedia === Wikipedia === wikipedia\n",
            "uses\n",
            "uses === use === use\n",
            "collaborative\n",
            "collaborative === collaborative === collabor\n",
            "software\n",
            "software === software === softwar\n",
            "known\n",
            "known === know === known\n",
            "as\n",
            "as === as === as\n",
            "a\n",
            "a === a === a\n",
            "wiki\n",
            "wiki === wiki === wiki\n",
            "that\n",
            "that === that === that\n",
            "facilitates\n",
            "facilitates === facilitate === facilit\n",
            "the\n",
            "the === the === the\n",
            "creation\n",
            "creation === creation === creation\n",
            "and\n",
            "and === and === and\n",
            "development\n",
            "development === development === develop\n",
            "of\n",
            "of === of === of\n",
            "articles\n",
            "articles === article === articl\n",
            "Although\n",
            "Although === although === although\n",
            "some\n",
            "some === some === some\n",
            "highly\n",
            "highly === highly === highli\n",
            "publicized\n",
            "publicized === publicize === public\n",
            "problems\n",
            "problems === problem === problem\n",
            "have\n",
            "have === have === have\n",
            "called\n",
            "called === call === call\n",
            "attention\n",
            "attention === attention === attent\n",
            "to\n",
            "to === to === to\n",
            "Wikipedia\n",
            "Wikipedia === Wikipedia === wikipedia\n",
            "editorial\n",
            "editorial === editorial === editori\n",
            "process\n",
            "process === process === process\n",
            "they\n",
            "they === they === they\n",
            "have\n",
            "have === have === have\n",
            "done\n",
            "done === do === done\n",
            "little\n",
            "little === little === littl\n",
            "to\n",
            "to === to === to\n",
            "dampen\n",
            "dampen === dampen === dampen\n",
            "public\n",
            "public === public === public\n",
            "use\n",
            "use === use === use\n",
            "of\n",
            "of === of === of\n",
            "the\n",
            "the === the === the\n",
            "resource\n",
            "resource === resource === resourc\n",
            "which\n",
            "which === which === which\n",
            "is\n",
            "is === be === is\n",
            "one\n",
            "one === one === one\n",
            "of\n",
            "of === of === of\n",
            "the\n",
            "the === the === the\n",
            "most\n",
            "most === most === most\n",
            "visited\n",
            "visited === visit === visit\n",
            "sites\n",
            "sites === site === site\n",
            "on\n",
            "on === on === on\n",
            "the\n",
            "the === the === the\n",
            "Internet\n",
            "Internet === internet === internet\n"
          ]
        }
      ]
    }
  ]
}