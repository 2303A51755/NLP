{
  "nbformat": 4,
  "nbformat_minor": 0,
  "metadata": {
    "colab": {
      "provenance": [],
      "authorship_tag": "ABX9TyPTAh0WqlNwD4S33hzjlMld",
      "include_colab_link": true
    },
    "kernelspec": {
      "name": "python3",
      "display_name": "Python 3"
    },
    "language_info": {
      "name": "python"
    }
  },
  "cells": [
    {
      "cell_type": "markdown",
      "metadata": {
        "id": "view-in-github",
        "colab_type": "text"
      },
      "source": [
        "<a href=\"https://colab.research.google.com/github/2303A51755/NLP/blob/main/14_08_25_NLP.ipynb\" target=\"_parent\"><img src=\"https://colab.research.google.com/assets/colab-badge.svg\" alt=\"Open In Colab\"/></a>"
      ]
    },
    {
      "cell_type": "code",
      "execution_count": null,
      "metadata": {
        "id": "072gH8sdexh_"
      },
      "outputs": [],
      "source": [
        "import pandas as pd\n",
        "df=pd.read_csv('/content/Consumer_Complaints.csv')"
      ]
    },
    {
      "cell_type": "code",
      "source": [
        "#d=df['Consumer Complaints']\n",
        "print(df)"
      ],
      "metadata": {
        "colab": {
          "base_uri": "https://localhost:8080/"
        },
        "id": "l2QNsLEJT-iU",
        "outputId": "4015fd19-98c0-4665-88d3-8730c4a37427"
      },
      "execution_count": null,
      "outputs": [
        {
          "output_type": "stream",
          "name": "stdout",
          "text": [
            "       Date received           Product     Sub-product  \\\n",
            "0         03-12-2014          Mortgage  Other mortgage   \n",
            "1         10-01-2016  Credit reporting             NaN   \n",
            "2         10/17/2016     Consumer Loan    Vehicle loan   \n",
            "3         06-08-2014       Credit card             NaN   \n",
            "4         09/13/2014   Debt collection     Credit card   \n",
            "...              ...               ...             ...   \n",
            "202441    12/31/2015          Mortgage  Other mortgage   \n",
            "202442    11/17/2015          Mortgage  Other mortgage   \n",
            "202443    11/17/2015  Credit reporting             NaN   \n",
            "202444    01/29/2016       Credit card             NaN   \n",
            "202445    05/31/2012       Credit card             NaN   \n",
            "\n",
            "                                           Issue  \\\n",
            "0       Loan modification,collection,foreclosure   \n",
            "1         Incorrect information on credit report   \n",
            "2                     Managing the loan or lease   \n",
            "3                                     Bankruptcy   \n",
            "4                          Communication tactics   \n",
            "...                                          ...   \n",
            "202441  Loan modification,collection,foreclosure   \n",
            "202442  Loan servicing, payments, escrow account   \n",
            "202443  Unable to get credit report/credit score   \n",
            "202444                                     Other   \n",
            "202445                      Credit determination   \n",
            "\n",
            "                                    Sub-issue  \\\n",
            "0                                         NaN   \n",
            "1                              Account status   \n",
            "2                                         NaN   \n",
            "3                                         NaN   \n",
            "4                  Frequent or repeated calls   \n",
            "...                                       ...   \n",
            "202441                                    NaN   \n",
            "202442                                    NaN   \n",
            "202443  Problem getting my free annual report   \n",
            "202444                                    NaN   \n",
            "202445                                    NaN   \n",
            "\n",
            "                                       Consumer Complaint  \\\n",
            "0                                                     NaN   \n",
            "1       I have outdated information on my credit repor...   \n",
            "2       I purchased a new car on XXXX XXXX. The car de...   \n",
            "3                                                     NaN   \n",
            "4                                                     NaN   \n",
            "...                                                   ...   \n",
            "202441                                                NaN   \n",
            "202442                                                NaN   \n",
            "202443                                                NaN   \n",
            "202444  on or about XXXX XXXX 2015 my husband and I ap...   \n",
            "202445                                                NaN   \n",
            "\n",
            "                                  Company Public Response  \\\n",
            "0                                                     NaN   \n",
            "1       Company has responded to the consumer and the ...   \n",
            "2                                                     NaN   \n",
            "3                                                     NaN   \n",
            "4                                                     NaN   \n",
            "...                                                   ...   \n",
            "202441                                                NaN   \n",
            "202442   Company chooses not to provide a public response   \n",
            "202443   Company chooses not to provide a public response   \n",
            "202444                                                NaN   \n",
            "202445                                                NaN   \n",
            "\n",
            "                                       Company State ZIP code            Tags  \\\n",
            "0                         M&T BANK CORPORATION    MI    48382             NaN   \n",
            "1       TRANSUNION INTERMEDIATE HOLDINGS, INC.    AL    352XX             NaN   \n",
            "2               CITIZENS FINANCIAL GROUP, INC.    PA    177XX  Older American   \n",
            "3                     AMERICAN EXPRESS COMPANY    ID    83854  Older American   \n",
            "4                               CITIBANK, N.A.    VA    23233             NaN   \n",
            "...                                        ...   ...      ...             ...   \n",
            "202441                     QUICKEN LOANS, INC.    IL    61021             NaN   \n",
            "202442   BANK OF AMERICA, NATIONAL ASSOCIATION    WI    53147             NaN   \n",
            "202443     Experian Information Solutions Inc.    NY    13089             NaN   \n",
            "202444            FIRST NATIONAL BANK OF OMAHA    HI    334XX  Older American   \n",
            "202445       CAPITAL ONE FINANCIAL CORPORATION    CA    92882             NaN   \n",
            "\n",
            "       Consumer consent provided? Submitted via Date Sent to Company  \\\n",
            "0                             NaN      Referral           03/17/2014   \n",
            "1                Consent provided           Web           10-05-2016   \n",
            "2                Consent provided           Web           10/20/2016   \n",
            "3                             NaN           Web           06-10-2014   \n",
            "4                             NaN           Web           09/13/2014   \n",
            "...                           ...           ...                  ...   \n",
            "202441                        NaN      Referral           01-06-2016   \n",
            "202442                        NaN      Referral           11/19/2015   \n",
            "202443                        NaN   Postal mail           11/24/2015   \n",
            "202444           Consent provided           Web           01/29/2016   \n",
            "202445                        NaN      Referral           06-05-2012   \n",
            "\n",
            "           Company Response to Consumer Timely response? Consumer disputed?  \\\n",
            "0               Closed with explanation              Yes                 No   \n",
            "1               Closed with explanation              Yes                 No   \n",
            "2               Closed with explanation              Yes                 No   \n",
            "3               Closed with explanation              Yes                Yes   \n",
            "4               Closed with explanation              Yes                Yes   \n",
            "...                                 ...              ...                ...   \n",
            "202441          Closed with explanation              Yes                 No   \n",
            "202442          Closed with explanation              Yes                 No   \n",
            "202443  Closed with non-monetary relief              Yes                 No   \n",
            "202444          Closed with explanation              Yes                Yes   \n",
            "202445  Closed with non-monetary relief              Yes                 No   \n",
            "\n",
            "        Complaint ID  Unnamed: 18  \n",
            "0             759217          NaN  \n",
            "1            2141773          NaN  \n",
            "2            2163100          NaN  \n",
            "3             885638          NaN  \n",
            "4            1027760          NaN  \n",
            "...              ...          ...  \n",
            "202441       1724215          NaN  \n",
            "202442       1658919          NaN  \n",
            "202443       1658985          NaN  \n",
            "202444       1764970          NaN  \n",
            "202445           899          NaN  \n",
            "\n",
            "[202446 rows x 19 columns]\n"
          ]
        }
      ]
    },
    {
      "cell_type": "code",
      "source": [
        "dd=df['Consumer Complaint']"
      ],
      "metadata": {
        "id": "ta5Vok_1UDpo"
      },
      "execution_count": null,
      "outputs": []
    },
    {
      "cell_type": "code",
      "source": [
        "print(dd)"
      ],
      "metadata": {
        "id": "psigt_HNUEF8",
        "colab": {
          "base_uri": "https://localhost:8080/"
        },
        "outputId": "83ef3ed5-cce5-4d94-90bc-a6f808fff3d6"
      },
      "execution_count": null,
      "outputs": [
        {
          "output_type": "stream",
          "name": "stdout",
          "text": [
            "0                                                       NaN\n",
            "1         I have outdated information on my credit repor...\n",
            "2         I purchased a new car on XXXX XXXX. The car de...\n",
            "3                                                       NaN\n",
            "4                                                       NaN\n",
            "                                ...                        \n",
            "202441                                                  NaN\n",
            "202442                                                  NaN\n",
            "202443                                                  NaN\n",
            "202444    on or about XXXX XXXX 2015 my husband and I ap...\n",
            "202445                                                  NaN\n",
            "Name: Consumer Complaint, Length: 202446, dtype: object\n"
          ]
        }
      ]
    },
    {
      "cell_type": "code",
      "source": [
        "d=dd.iloc[1]"
      ],
      "metadata": {
        "id": "wqbGVFrqUEdH"
      },
      "execution_count": null,
      "outputs": []
    },
    {
      "cell_type": "code",
      "source": [
        "print(d)"
      ],
      "metadata": {
        "id": "nvb7i8tzUE0S",
        "colab": {
          "base_uri": "https://localhost:8080/"
        },
        "outputId": "315d40eb-a903-4f03-cf3a-a23e467d67ad"
      },
      "execution_count": null,
      "outputs": [
        {
          "output_type": "stream",
          "name": "stdout",
          "text": [
            "I have outdated information on my credit report that I have previously disputed that has yet to be removed this information is more then seven years old and does not meet credit reporting requirements\n"
          ]
        }
      ]
    },
    {
      "cell_type": "code",
      "source": [
        "import spacy\n",
        "nlp=spacy.load('en_core_web_sm')"
      ],
      "metadata": {
        "id": "s_0ahu2uUFGO"
      },
      "execution_count": null,
      "outputs": []
    },
    {
      "cell_type": "code",
      "source": [
        "doc=nlp(d)"
      ],
      "metadata": {
        "id": "dlMlqdGbUFfx"
      },
      "execution_count": null,
      "outputs": []
    },
    {
      "cell_type": "code",
      "source": [
        "for i in doc:\n",
        "    print(i.text,\"==\", i.pos_)"
      ],
      "metadata": {
        "id": "Rtbh_OXrUMzZ",
        "colab": {
          "base_uri": "https://localhost:8080/"
        },
        "outputId": "fbfca832-4a27-47ca-b684-c33d150b95dd"
      },
      "execution_count": null,
      "outputs": [
        {
          "output_type": "stream",
          "name": "stdout",
          "text": [
            "I == PRON\n",
            "have == VERB\n",
            "outdated == VERB\n",
            "information == NOUN\n",
            "on == ADP\n",
            "my == PRON\n",
            "credit == NOUN\n",
            "report == NOUN\n",
            "that == PRON\n",
            "I == PRON\n",
            "have == AUX\n",
            "previously == ADV\n",
            "disputed == VERB\n",
            "that == PRON\n",
            "has == VERB\n",
            "yet == ADV\n",
            "to == PART\n",
            "be == AUX\n",
            "removed == VERB\n",
            "this == DET\n",
            "information == NOUN\n",
            "is == AUX\n",
            "more == ADV\n",
            "then == ADV\n",
            "seven == NUM\n",
            "years == NOUN\n",
            "old == ADJ\n",
            "and == CCONJ\n",
            "does == AUX\n",
            "not == PART\n",
            "meet == VERB\n",
            "credit == NOUN\n",
            "reporting == NOUN\n",
            "requirements == NOUN\n"
          ]
        }
      ]
    },
    {
      "cell_type": "code",
      "source": [
        "print(df.head(25))"
      ],
      "metadata": {
        "id": "sT_4DlKNUMwA",
        "colab": {
          "base_uri": "https://localhost:8080/"
        },
        "outputId": "3f66947f-d801-42d9-86e8-6a186589bcd3"
      },
      "execution_count": null,
      "outputs": [
        {
          "output_type": "stream",
          "name": "stdout",
          "text": [
            "   Date received                  Product  \\\n",
            "0     03-12-2014                 Mortgage   \n",
            "1     10-01-2016         Credit reporting   \n",
            "2     10/17/2016            Consumer Loan   \n",
            "3     06-08-2014              Credit card   \n",
            "4     09/13/2014          Debt collection   \n",
            "5     11/13/2013                 Mortgage   \n",
            "6     06/16/2015          Debt collection   \n",
            "7     06/15/2015         Credit reporting   \n",
            "8     11/13/2015                 Mortgage   \n",
            "9     10/21/2014                 Mortgage   \n",
            "10    04/14/2017                 Mortgage   \n",
            "11    03/30/2012             Student loan   \n",
            "12    02-03-2016          Debt collection   \n",
            "13    01-07-2015         Credit reporting   \n",
            "14    03/15/2013              Credit card   \n",
            "15    07/18/2016         Credit reporting   \n",
            "16    02/17/2016          Debt collection   \n",
            "17    11-07-2014                 Mortgage   \n",
            "18    04/17/2015                 Mortgage   \n",
            "19    03-09-2016         Credit reporting   \n",
            "20    02-04-2015          Debt collection   \n",
            "21    03/17/2017  Bank account or service   \n",
            "22    03-08-2012                 Mortgage   \n",
            "23    03/27/2013                 Mortgage   \n",
            "24    02/25/2014          Debt collection   \n",
            "\n",
            "                               Sub-product  \\\n",
            "0                           Other mortgage   \n",
            "1                                      NaN   \n",
            "2                             Vehicle loan   \n",
            "3                                      NaN   \n",
            "4                              Credit card   \n",
            "5   Conventional adjustable mortgage (ARM)   \n",
            "6                                  Medical   \n",
            "7                                      NaN   \n",
            "8                           Other mortgage   \n",
            "9              Conventional fixed mortgage   \n",
            "10                          Other mortgage   \n",
            "11                Non-federal student loan   \n",
            "12   Other (i.e. phone, health club, etc.)   \n",
            "13                                     NaN   \n",
            "14                                     NaN   \n",
            "15                                     NaN   \n",
            "16                             Credit card   \n",
            "17             Conventional fixed mortgage   \n",
            "18                            FHA mortgage   \n",
            "19                                     NaN   \n",
            "20                                Mortgage   \n",
            "21                        Checking account   \n",
            "22                          Other mortgage   \n",
            "23             Conventional fixed mortgage   \n",
            "24   Other (i.e. phone, health club, etc.)   \n",
            "\n",
            "                                       Issue  \\\n",
            "0   Loan modification,collection,foreclosure   \n",
            "1     Incorrect information on credit report   \n",
            "2                 Managing the loan or lease   \n",
            "3                                 Bankruptcy   \n",
            "4                      Communication tactics   \n",
            "5   Loan servicing, payments, escrow account   \n",
            "6        Improper contact or sharing of info   \n",
            "7   Credit reporting company's investigation   \n",
            "8   Loan modification,collection,foreclosure   \n",
            "9   Loan modification,collection,foreclosure   \n",
            "10  Loan modification,collection,foreclosure   \n",
            "11                        Repaying your loan   \n",
            "12           Disclosure verification of debt   \n",
            "13    Incorrect information on credit report   \n",
            "14                Closing/Cancelling account   \n",
            "15    Incorrect information on credit report   \n",
            "16       Improper contact or sharing of info   \n",
            "17  Loan modification,collection,foreclosure   \n",
            "18  Application, originator, mortgage broker   \n",
            "19    Incorrect information on credit report   \n",
            "20     Cont'd attempts collect debt not owed   \n",
            "21  Making/receiving payments, sending money   \n",
            "22  Loan servicing, payments, escrow account   \n",
            "23  Loan servicing, payments, escrow account   \n",
            "24     Cont'd attempts collect debt not owed   \n",
            "\n",
            "                                Sub-issue  \\\n",
            "0                                     NaN   \n",
            "1                          Account status   \n",
            "2                                     NaN   \n",
            "3                                     NaN   \n",
            "4              Frequent or repeated calls   \n",
            "5                                     NaN   \n",
            "6   Contacted employer after asked not to   \n",
            "7          Inadequate help over the phone   \n",
            "8                                     NaN   \n",
            "9                                     NaN   \n",
            "10                                    NaN   \n",
            "11                                    NaN   \n",
            "12   Not given enough info to verify debt   \n",
            "13                         Account status   \n",
            "14                                    NaN   \n",
            "15                         Account status   \n",
            "16  Talked to a third party about my debt   \n",
            "17                                    NaN   \n",
            "18                                    NaN   \n",
            "19                Information is not mine   \n",
            "20                          Debt was paid   \n",
            "21                                    NaN   \n",
            "22                                    NaN   \n",
            "23                                    NaN   \n",
            "24                       Debt is not mine   \n",
            "\n",
            "                                   Consumer Complaint  \\\n",
            "0                                                 NaN   \n",
            "1   I have outdated information on my credit repor...   \n",
            "2   I purchased a new car on XXXX XXXX. The car de...   \n",
            "3                                                 NaN   \n",
            "4                                                 NaN   \n",
            "5                                                 NaN   \n",
            "6                                                 NaN   \n",
            "7   An account on my credit report has a mistaken ...   \n",
            "8                                                 NaN   \n",
            "9                                                 NaN   \n",
            "10                                                NaN   \n",
            "11                                                NaN   \n",
            "12  This company refuses to provide me verificatio...   \n",
            "13                                                NaN   \n",
            "14                                                NaN   \n",
            "15                                                NaN   \n",
            "16  This complaint is in regards to Square Two Fin...   \n",
            "17                                                NaN   \n",
            "18                                                NaN   \n",
            "19                                                NaN   \n",
            "20                                                NaN   \n",
            "21                                                NaN   \n",
            "22                                                NaN   \n",
            "23                                                NaN   \n",
            "24                                                NaN   \n",
            "\n",
            "                              Company Public Response  \\\n",
            "0                                                 NaN   \n",
            "1   Company has responded to the consumer and the ...   \n",
            "2                                                 NaN   \n",
            "3                                                 NaN   \n",
            "4                                                 NaN   \n",
            "5                                                 NaN   \n",
            "6   Company believes it acted appropriately as aut...   \n",
            "7    Company chooses not to provide a public response   \n",
            "8   Company believes it acted appropriately as aut...   \n",
            "9                                                 NaN   \n",
            "10  Company believes it acted appropriately as aut...   \n",
            "11                                                NaN   \n",
            "12                                                NaN   \n",
            "13                                                NaN   \n",
            "14                                                NaN   \n",
            "15                                                NaN   \n",
            "16  Company has responded to the consumer and the ...   \n",
            "17                                                NaN   \n",
            "18                                                NaN   \n",
            "19  Company has responded to the consumer and the ...   \n",
            "20                                                NaN   \n",
            "21  Company believes it acted appropriately as aut...   \n",
            "22                                                NaN   \n",
            "23                                                NaN   \n",
            "24                                                NaN   \n",
            "\n",
            "                                   Company State ZIP code            Tags  \\\n",
            "0                     M&T BANK CORPORATION    MI    48382             NaN   \n",
            "1   TRANSUNION INTERMEDIATE HOLDINGS, INC.    AL    352XX             NaN   \n",
            "2           CITIZENS FINANCIAL GROUP, INC.    PA    177XX  Older American   \n",
            "3                 AMERICAN EXPRESS COMPANY    ID    83854  Older American   \n",
            "4                           CITIBANK, N.A.    VA    23233             NaN   \n",
            "5                             U.S. BANCORP    MN    48322             NaN   \n",
            "6              California Accounts Service    CA    92111             NaN   \n",
            "7      Experian Information Solutions Inc.    VA    224XX             NaN   \n",
            "8                       Aldridge Pite, LLP    CA    93101             NaN   \n",
            "9                 OCWEN LOAN SERVICING LLC    FL    32714  Older American   \n",
            "10                Shellpoint Partners, LLC    CA    90305             NaN   \n",
            "11        Student Loan Finance Corporation    MN    55428             NaN   \n",
            "12                     The CBE Group, Inc.    TX    752XX             NaN   \n",
            "13     Experian Information Solutions Inc.    NV    89169             NaN   \n",
            "14            FIRST NATIONAL BANK OF OMAHA    NY    11732             NaN   \n",
            "15                           EQUIFAX, INC.    FL    33629             NaN   \n",
            "16         SQUARETWO FINANCIAL CORPORATION    NE    693XX             NaN   \n",
            "17                            U.S. BANCORP    MT    59801             NaN   \n",
            "18                   WELLS FARGO & COMPANY    ME     4032             NaN   \n",
            "19     Experian Information Solutions Inc.    CA    92703             NaN   \n",
            "20       PHH Mortgage Services Corporation    CA    92021             NaN   \n",
            "21  UNITED SERVICES AUTOMOBILE ASSOCIATION    WI    54005             NaN   \n",
            "22                    Ditech Financial LLC    CA    95361             NaN   \n",
            "23                     NATIONSTAR MORTGAGE    WA    98203             NaN   \n",
            "24                 Navient Solutions, LLC.    RI     2906             NaN   \n",
            "\n",
            "   Consumer consent provided? Submitted via Date Sent to Company  \\\n",
            "0                         NaN      Referral           03/17/2014   \n",
            "1            Consent provided           Web           10-05-2016   \n",
            "2            Consent provided           Web           10/20/2016   \n",
            "3                         NaN           Web           06-10-2014   \n",
            "4                         NaN           Web           09/13/2014   \n",
            "5                         NaN         Phone           11/20/2013   \n",
            "6        Consent not provided           Web           06/19/2015   \n",
            "7            Consent provided           Web           06/15/2015   \n",
            "8                         NaN      Referral           12-10-2015   \n",
            "9                         NaN           Web           10/21/2014   \n",
            "10                        NaN      Referral           04/14/2017   \n",
            "11                        NaN           Web           07-12-2012   \n",
            "12           Consent provided           Web           02-03-2016   \n",
            "13                        NaN      Referral           01/23/2015   \n",
            "14                        NaN      Referral           03/18/2013   \n",
            "15                        NaN           Fax           07/19/2016   \n",
            "16           Consent provided           Web           03-04-2016   \n",
            "17                        NaN           Web           11-07-2014   \n",
            "18       Consent not provided           Web           04/17/2015   \n",
            "19                        NaN         Phone           03-09-2016   \n",
            "20                        NaN           Web           02-10-2015   \n",
            "21                        NaN      Referral           03/20/2017   \n",
            "22                        NaN           Web           03/23/2012   \n",
            "23                        NaN           Web           03/27/2013   \n",
            "24                        NaN           Web           02/24/2014   \n",
            "\n",
            "   Company Response to Consumer Timely response? Consumer disputed?  \\\n",
            "0       Closed with explanation              Yes                 No   \n",
            "1       Closed with explanation              Yes                 No   \n",
            "2       Closed with explanation              Yes                 No   \n",
            "3       Closed with explanation              Yes                Yes   \n",
            "4       Closed with explanation              Yes                Yes   \n",
            "5   Closed with monetary relief              Yes                 No   \n",
            "6       Closed with explanation              Yes                 No   \n",
            "7       Closed with explanation              Yes                 No   \n",
            "8       Closed with explanation              Yes                Yes   \n",
            "9       Closed with explanation              Yes                 No   \n",
            "10      Closed with explanation              Yes                 No   \n",
            "11      Closed with explanation              Yes                 No   \n",
            "12      Closed with explanation              Yes                Yes   \n",
            "13      Closed with explanation              Yes                Yes   \n",
            "14      Closed with explanation              Yes                 No   \n",
            "15      Closed with explanation              Yes                 No   \n",
            "16      Closed with explanation              Yes                Yes   \n",
            "17      Closed with explanation              Yes                 No   \n",
            "18      Closed with explanation              Yes                 No   \n",
            "19      Closed with explanation              Yes                 No   \n",
            "20      Closed with explanation              Yes                Yes   \n",
            "21      Closed with explanation              Yes                 No   \n",
            "22        Closed without relief              Yes                 No   \n",
            "23      Closed with explanation              Yes                 No   \n",
            "24      Closed with explanation              Yes                Yes   \n",
            "\n",
            "    Complaint ID  Unnamed: 18  \n",
            "0         759217          NaN  \n",
            "1        2141773          NaN  \n",
            "2        2163100          NaN  \n",
            "3         885638          NaN  \n",
            "4        1027760          NaN  \n",
            "5         596562          NaN  \n",
            "6        1422680          NaN  \n",
            "7        1420702          NaN  \n",
            "8        1654890          NaN  \n",
            "9        1079567          NaN  \n",
            "10       2436165          NaN  \n",
            "11         42864          NaN  \n",
            "12       1772196          NaN  \n",
            "13       1184859          NaN  \n",
            "14        357186          NaN  \n",
            "15       2017178          NaN  \n",
            "16       1790634          NaN  \n",
            "17       1107428          NaN  \n",
            "18       1334421          NaN  \n",
            "19       1823789          NaN  \n",
            "20       1224106          NaN  \n",
            "21       2393048          NaN  \n",
            "22         32412          NaN  \n",
            "23        366548          NaN  \n",
            "24        730165          NaN  \n"
          ]
        }
      ]
    },
    {
      "cell_type": "code",
      "source": [
        "df['char_count'] = df['Consumer Complaint'].fillna('').apply(len)\n",
        "df['word_count'] = df['Consumer Complaint'].fillna('').apply(lambda x: len(x.split()))"
      ],
      "metadata": {
        "id": "OxCcZB8fUMtW"
      },
      "execution_count": null,
      "outputs": []
    },
    {
      "cell_type": "code",
      "source": [
        "print(df[['Consumer Complaint', 'char_count', 'word_count']])"
      ],
      "metadata": {
        "id": "1xKKW2QUUXVR",
        "colab": {
          "base_uri": "https://localhost:8080/",
          "height": 321
        },
        "outputId": "31fe4dfe-0bbd-4d87-8aac-0716d5549289"
      },
      "execution_count": null,
      "outputs": [
        {
          "output_type": "error",
          "ename": "KeyError",
          "evalue": "\"['char_count', 'word_count'] not in index\"",
          "traceback": [
            "\u001b[0;31m---------------------------------------------------------------------------\u001b[0m",
            "\u001b[0;31mKeyError\u001b[0m                                  Traceback (most recent call last)",
            "\u001b[0;32m/tmp/ipython-input-1904814124.py\u001b[0m in \u001b[0;36m<cell line: 0>\u001b[0;34m()\u001b[0m\n\u001b[0;32m----> 1\u001b[0;31m \u001b[0mprint\u001b[0m\u001b[0;34m(\u001b[0m\u001b[0mdf\u001b[0m\u001b[0;34m[\u001b[0m\u001b[0;34m[\u001b[0m\u001b[0;34m'Consumer Complaint'\u001b[0m\u001b[0;34m,\u001b[0m \u001b[0;34m'char_count'\u001b[0m\u001b[0;34m,\u001b[0m \u001b[0;34m'word_count'\u001b[0m\u001b[0;34m]\u001b[0m\u001b[0;34m]\u001b[0m\u001b[0;34m)\u001b[0m\u001b[0;34m\u001b[0m\u001b[0;34m\u001b[0m\u001b[0m\n\u001b[0m",
            "\u001b[0;32m/usr/local/lib/python3.12/dist-packages/pandas/core/frame.py\u001b[0m in \u001b[0;36m__getitem__\u001b[0;34m(self, key)\u001b[0m\n\u001b[1;32m   4106\u001b[0m             \u001b[0;32mif\u001b[0m \u001b[0mis_iterator\u001b[0m\u001b[0;34m(\u001b[0m\u001b[0mkey\u001b[0m\u001b[0;34m)\u001b[0m\u001b[0;34m:\u001b[0m\u001b[0;34m\u001b[0m\u001b[0;34m\u001b[0m\u001b[0m\n\u001b[1;32m   4107\u001b[0m                 \u001b[0mkey\u001b[0m \u001b[0;34m=\u001b[0m \u001b[0mlist\u001b[0m\u001b[0;34m(\u001b[0m\u001b[0mkey\u001b[0m\u001b[0;34m)\u001b[0m\u001b[0;34m\u001b[0m\u001b[0;34m\u001b[0m\u001b[0m\n\u001b[0;32m-> 4108\u001b[0;31m             \u001b[0mindexer\u001b[0m \u001b[0;34m=\u001b[0m \u001b[0mself\u001b[0m\u001b[0;34m.\u001b[0m\u001b[0mcolumns\u001b[0m\u001b[0;34m.\u001b[0m\u001b[0m_get_indexer_strict\u001b[0m\u001b[0;34m(\u001b[0m\u001b[0mkey\u001b[0m\u001b[0;34m,\u001b[0m \u001b[0;34m\"columns\"\u001b[0m\u001b[0;34m)\u001b[0m\u001b[0;34m[\u001b[0m\u001b[0;36m1\u001b[0m\u001b[0;34m]\u001b[0m\u001b[0;34m\u001b[0m\u001b[0;34m\u001b[0m\u001b[0m\n\u001b[0m\u001b[1;32m   4109\u001b[0m \u001b[0;34m\u001b[0m\u001b[0m\n\u001b[1;32m   4110\u001b[0m         \u001b[0;31m# take() does not accept boolean indexers\u001b[0m\u001b[0;34m\u001b[0m\u001b[0;34m\u001b[0m\u001b[0m\n",
            "\u001b[0;32m/usr/local/lib/python3.12/dist-packages/pandas/core/indexes/base.py\u001b[0m in \u001b[0;36m_get_indexer_strict\u001b[0;34m(self, key, axis_name)\u001b[0m\n\u001b[1;32m   6198\u001b[0m             \u001b[0mkeyarr\u001b[0m\u001b[0;34m,\u001b[0m \u001b[0mindexer\u001b[0m\u001b[0;34m,\u001b[0m \u001b[0mnew_indexer\u001b[0m \u001b[0;34m=\u001b[0m \u001b[0mself\u001b[0m\u001b[0;34m.\u001b[0m\u001b[0m_reindex_non_unique\u001b[0m\u001b[0;34m(\u001b[0m\u001b[0mkeyarr\u001b[0m\u001b[0;34m)\u001b[0m\u001b[0;34m\u001b[0m\u001b[0;34m\u001b[0m\u001b[0m\n\u001b[1;32m   6199\u001b[0m \u001b[0;34m\u001b[0m\u001b[0m\n\u001b[0;32m-> 6200\u001b[0;31m         \u001b[0mself\u001b[0m\u001b[0;34m.\u001b[0m\u001b[0m_raise_if_missing\u001b[0m\u001b[0;34m(\u001b[0m\u001b[0mkeyarr\u001b[0m\u001b[0;34m,\u001b[0m \u001b[0mindexer\u001b[0m\u001b[0;34m,\u001b[0m \u001b[0maxis_name\u001b[0m\u001b[0;34m)\u001b[0m\u001b[0;34m\u001b[0m\u001b[0;34m\u001b[0m\u001b[0m\n\u001b[0m\u001b[1;32m   6201\u001b[0m \u001b[0;34m\u001b[0m\u001b[0m\n\u001b[1;32m   6202\u001b[0m         \u001b[0mkeyarr\u001b[0m \u001b[0;34m=\u001b[0m \u001b[0mself\u001b[0m\u001b[0;34m.\u001b[0m\u001b[0mtake\u001b[0m\u001b[0;34m(\u001b[0m\u001b[0mindexer\u001b[0m\u001b[0;34m)\u001b[0m\u001b[0;34m\u001b[0m\u001b[0;34m\u001b[0m\u001b[0m\n",
            "\u001b[0;32m/usr/local/lib/python3.12/dist-packages/pandas/core/indexes/base.py\u001b[0m in \u001b[0;36m_raise_if_missing\u001b[0;34m(self, key, indexer, axis_name)\u001b[0m\n\u001b[1;32m   6250\u001b[0m \u001b[0;34m\u001b[0m\u001b[0m\n\u001b[1;32m   6251\u001b[0m             \u001b[0mnot_found\u001b[0m \u001b[0;34m=\u001b[0m \u001b[0mlist\u001b[0m\u001b[0;34m(\u001b[0m\u001b[0mensure_index\u001b[0m\u001b[0;34m(\u001b[0m\u001b[0mkey\u001b[0m\u001b[0;34m)\u001b[0m\u001b[0;34m[\u001b[0m\u001b[0mmissing_mask\u001b[0m\u001b[0;34m.\u001b[0m\u001b[0mnonzero\u001b[0m\u001b[0;34m(\u001b[0m\u001b[0;34m)\u001b[0m\u001b[0;34m[\u001b[0m\u001b[0;36m0\u001b[0m\u001b[0;34m]\u001b[0m\u001b[0;34m]\u001b[0m\u001b[0;34m.\u001b[0m\u001b[0munique\u001b[0m\u001b[0;34m(\u001b[0m\u001b[0;34m)\u001b[0m\u001b[0;34m)\u001b[0m\u001b[0;34m\u001b[0m\u001b[0;34m\u001b[0m\u001b[0m\n\u001b[0;32m-> 6252\u001b[0;31m             \u001b[0;32mraise\u001b[0m \u001b[0mKeyError\u001b[0m\u001b[0;34m(\u001b[0m\u001b[0;34mf\"{not_found} not in index\"\u001b[0m\u001b[0;34m)\u001b[0m\u001b[0;34m\u001b[0m\u001b[0;34m\u001b[0m\u001b[0m\n\u001b[0m\u001b[1;32m   6253\u001b[0m \u001b[0;34m\u001b[0m\u001b[0m\n\u001b[1;32m   6254\u001b[0m     \u001b[0;34m@\u001b[0m\u001b[0moverload\u001b[0m\u001b[0;34m\u001b[0m\u001b[0;34m\u001b[0m\u001b[0m\n",
            "\u001b[0;31mKeyError\u001b[0m: \"['char_count', 'word_count'] not in index\""
          ]
        }
      ]
    },
    {
      "cell_type": "code",
      "metadata": {
        "id": "0e2493fc"
      },
      "source": [
        "df['char_count'] = df['Consumer Complaint'].fillna('').apply(len)\n",
        "df['word_count'] = df['Consumer Complaint'].fillna('').apply(lambda x: len(x.split()))"
      ],
      "execution_count": null,
      "outputs": []
    },
    {
      "cell_type": "code",
      "metadata": {
        "colab": {
          "base_uri": "https://localhost:8080/"
        },
        "id": "caae8c0b",
        "outputId": "b242c448-7ddc-4abb-a1c9-345264dbea14"
      },
      "source": [
        "print(df[['Consumer Complaint', 'char_count', 'word_count']])"
      ],
      "execution_count": null,
      "outputs": [
        {
          "output_type": "stream",
          "name": "stdout",
          "text": [
            "                                       Consumer Complaint  char_count  \\\n",
            "0                                                     NaN           0   \n",
            "1       I have outdated information on my credit repor...         200   \n",
            "2       I purchased a new car on XXXX XXXX. The car de...        2042   \n",
            "3                                                     NaN           0   \n",
            "4                                                     NaN           0   \n",
            "...                                                   ...         ...   \n",
            "202441                                                NaN           0   \n",
            "202442                                                NaN           0   \n",
            "202443                                                NaN           0   \n",
            "202444  on or about XXXX XXXX 2015 my husband and I ap...        1314   \n",
            "202445                                                NaN           0   \n",
            "\n",
            "        word_count  \n",
            "0                0  \n",
            "1               34  \n",
            "2              394  \n",
            "3                0  \n",
            "4                0  \n",
            "...            ...  \n",
            "202441           0  \n",
            "202442           0  \n",
            "202443           0  \n",
            "202444         258  \n",
            "202445           0  \n",
            "\n",
            "[202446 rows x 3 columns]\n"
          ]
        }
      ]
    },
    {
      "cell_type": "code",
      "source": [
        "text={\"My phone number is 1234567890 and my email is test@domain.com\"\n",
        "\n",
        "\"Visit https://example.com for more info!!!\"\n",
        "\n",
        "\"HELLO!!! This is SOOOOO exciting :))\"\n",
        "\n",
        "\"Contact us at info@company.org or call ‪+91 98765-43210‬\"\n",
        "\n",
        "\"Python's regex is very useful!!!  #Coding #Fun\"\n",
        "\n",
        "}"
      ],
      "metadata": {
        "id": "-uDDi9CiUXRr"
      },
      "execution_count": null,
      "outputs": []
    },
    {
      "cell_type": "code",
      "source": [
        "print(text)"
      ],
      "metadata": {
        "id": "ZOTBKQ0dUXPg",
        "colab": {
          "base_uri": "https://localhost:8080/"
        },
        "outputId": "d2c3e989-5775-4b20-8e95-81848a0b7ca1"
      },
      "execution_count": null,
      "outputs": [
        {
          "output_type": "stream",
          "name": "stdout",
          "text": [
            "{\"My phone number is 1234567890 and my email is test@domain.comVisit https://example.com for more info!!!HELLO!!! This is SOOOOO exciting :))Contact us at info@company.org or call \\u202a+91 98765-43210\\u202cPython's regex is very useful!!!  #Coding\\xa0#Fun\"}\n"
          ]
        }
      ]
    },
    {
      "cell_type": "code",
      "source": [
        "import re\n",
        "\n",
        "for item in text:\n",
        "    phones = re.findall(r'\\d{10}', item)\n",
        "    print(\"phones found:\", phones)"
      ],
      "metadata": {
        "id": "Aj3DldxYUXNO",
        "colab": {
          "base_uri": "https://localhost:8080/"
        },
        "outputId": "dca02207-5ea5-4a56-c31a-455556042ff1"
      },
      "execution_count": null,
      "outputs": [
        {
          "output_type": "stream",
          "name": "stdout",
          "text": [
            "phones found: ['1234567890']\n"
          ]
        }
      ]
    },
    {
      "cell_type": "code",
      "source": [
        "import re\n",
        "for item in text:\n",
        "    emails = re.findall(r'[\\w\\.-]+@[\\w\\.-]+', item)\n",
        "    print(\"emails found:\", emails)"
      ],
      "metadata": {
        "id": "om5ZT15cUXKp",
        "colab": {
          "base_uri": "https://localhost:8080/"
        },
        "outputId": "645a9db8-d60e-4487-e0f5-eaafb2396aee"
      },
      "execution_count": null,
      "outputs": [
        {
          "output_type": "stream",
          "name": "stdout",
          "text": [
            "emails found: ['test@domain.comVisit', 'info@company.org']\n"
          ]
        }
      ]
    },
    {
      "cell_type": "code",
      "source": [
        "import re\n",
        "for item in text:\n",
        "    URL=re.findall(r'https?://\\S+', item)\n",
        "    print(\"URL found:\", URL)"
      ],
      "metadata": {
        "id": "Rp7KyikAUjq8",
        "colab": {
          "base_uri": "https://localhost:8080/"
        },
        "outputId": "2cc01fc7-b294-4359-870d-8843e08231d7"
      },
      "execution_count": null,
      "outputs": [
        {
          "output_type": "stream",
          "name": "stdout",
          "text": [
            "URL found: ['https://example.com']\n"
          ]
        }
      ]
    },
    {
      "cell_type": "code",
      "source": [
        "import re\n",
        "for item in text:\n",
        "    special_characters=re.findall(r'[^\\w\\s]', item)\n",
        "    print(\"special characters found:\", special_characters)"
      ],
      "metadata": {
        "id": "aY7M27GRUjn0",
        "colab": {
          "base_uri": "https://localhost:8080/"
        },
        "outputId": "5f5c87bc-d2f1-4474-c521-40e6eee0b11e"
      },
      "execution_count": null,
      "outputs": [
        {
          "output_type": "stream",
          "name": "stdout",
          "text": [
            "special characters found: ['@', '.', ':', '/', '/', '.', '!', '!', '!', '!', '!', '!', ':', ')', ')', '@', '.', '\\u202a', '+', '-', '\\u202c', \"'\", '!', '!', '!', '#', '#']\n"
          ]
        }
      ]
    }
  ]
}